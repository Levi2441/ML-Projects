{
 "cells": [
  {
   "cell_type": "code",
   "execution_count": 3,
   "id": "b63c99bc",
   "metadata": {},
   "outputs": [],
   "source": [
    "#<GRADED>\n",
    "import numpy as np\n",
    "#</GRADED>\n",
    "import matplotlib\n",
    "matplotlib.use('PDF')\n",
    "import matplotlib.pyplot as plt\n",
    "from numpy.matlib import repmat\n",
    "import sys\n",
    "from scipy.io import loadmat\n",
    "import time\n",
    "\n",
    "%matplotlib inline"
   ]
  },
  {
   "cell_type": "code",
   "execution_count": 8,
   "id": "7b850b6a",
   "metadata": {},
   "outputs": [
    {
     "name": "stdout",
     "output_type": "stream",
     "text": [
      "Loaded 2 input emails.\n"
     ]
    },
    {
     "data": {
      "text/plain": [
       "(2, 512)"
      ]
     },
     "execution_count": 8,
     "metadata": {},
     "output_type": "execute_result"
    }
   ],
   "source": [
    "# tokenize the email and hashes the symbols into a vector\n",
    "def extractfeaturesnaive(path, B):\n",
    "    with open(path, 'r') as femail:\n",
    "        # initialize all-zeros feature vector\n",
    "        v = np.zeros(B)\n",
    "        email = femail.read()\n",
    "        # breaks for non-ascii characters\n",
    "        tokens = email.split()\n",
    "        for token in tokens:\n",
    "            v[hash(token) % B] = 1\n",
    "    return v\n",
    "\n",
    "def loadspamdata(extractfeatures, B=512, path=\"./data_train/\"):\n",
    "    '''\n",
    "    INPUT:\n",
    "    extractfeatures : function to extract features\n",
    "    B               : dimensionality of feature space\n",
    "    path            : the path of folder to be processed\n",
    "    \n",
    "    OUTPUT:\n",
    "    X, Y\n",
    "    '''\n",
    "    if path[-1] != '/':\n",
    "        path += '/'\n",
    "    \n",
    "    xs = np.zeros((2,B))\n",
    "    ys = np.zeros(2)\n",
    "    \"\"\"\n",
    "    ham easy_ham/01750.73b4d9ab83de83ae58707c8bdcda0fc5\n",
    "    \"\"\"\n",
    "    label = 'ham'\n",
    "    ys[0] = (label == 'spam') * 2-1\n",
    "    xs[0, :] = extractfeatures(path+\"01750.73b4d9ab83de83ae58707c8bdcda0fc5\",B)\n",
    "    \n",
    "    \"\"\"\n",
    "    spam spam_2/00026.c62c9f08db4ee1b99626dbae575008fe\n",
    "    \"\"\"\n",
    "    label = 'spam'\n",
    "    ys[1] = (label == 'spam') * 2-1\n",
    "    xs[1, :] = extractfeatures(path+\"01750.73b4d9ab83de83ae58707c8bdcda0fc5\",B)\n",
    "    \n",
    "    print('Loaded %d input emails.' % len(ys))\n",
    "    return xs, ys\n",
    "\n",
    "X,Y = loadspamdata(extractfeaturesnaive)\n",
    "X.shape"
   ]
  },
  {
   "cell_type": "code",
   "execution_count": 9,
   "id": "96a22f92",
   "metadata": {},
   "outputs": [],
   "source": [
    "# Split data into training and validation\n",
    "n, d = X.shape\n",
    "cutoff = int(np.ceil(0.8 * n))\n",
    "# indices of training samples\n",
    "xTr = X[:cutoff,:]\n",
    "yTr = Y[:cutoff]\n",
    "# indices of testing samples\n",
    "xTv = X[cutoff:,:]\n",
    "yTv = Y[cutoff:]"
   ]
  },
  {
   "cell_type": "code",
   "execution_count": 11,
   "id": "60f9e1a9",
   "metadata": {},
   "outputs": [],
   "source": [
    "\"\"\"\n",
    "We use Adagrad gradient descent algorithm, but with various loss functions. \n",
    "Implement the function ridge which computes the ridge \n",
    "regression loss and gradient for a particular data set xTr, yTr and a weight vector w, and \n",
    "regularization constant lambda\n",
    "\"\"\"\n",
    "def ridge(w, xTr, yTr, lmbda):\n",
    "    \"\"\"\n",
    "    INPUT:\n",
    "    w     : d-dimensional weight vector (d,)\n",
    "    xTr   : nxd dimensional matrix (each row is an input vector) (n, d)\n",
    "    yTr   : n-dimensional vector (each entry is a label) (n,)\n",
    "    lmbda : regression constant (scalar)\n",
    "    \n",
    "    OUTPUTS:\n",
    "    loss     : the total loss obtained with w on xTr and yTr (scalar)\n",
    "    gradient : d-dimensional gradient at w (d,)\n",
    "    \"\"\"\n",
    "    n, d = xTr.shape\n",
    "    \n",
    "    # Calculate the predicted values\n",
    "    predicted_values = np.dot(xTr, w)  # Shape: (n,)\n",
    "    \n",
    "    # Calculate the errors\n",
    "    errors = predicted_values - yTr  # Shape: (n,)\n",
    "    \n",
    "    # Calculate the OLS Loss\n",
    "    ols_loss = (1 / n) * np.sum(errors ** 2)\n",
    "    \n",
    "    # Calculate the L2 Regularization Term\n",
    "    l2_distance = np.dot(w, w)\n",
    "    l2_regularization = lmbda * l2_distance\n",
    "    \n",
    "    # Calculate the total ridge regression loss\n",
    "    loss = ols_loss + l2_regularization\n",
    "    \n",
    "    # Calculate the gradient\n",
    "    grad = (1 / n) * 2 * np.dot(xTr.T, errors) + 2 * lmbda * w\n",
    "    \n",
    "    return loss, grad\n"
   ]
  },
  {
   "cell_type": "code",
   "execution_count": 12,
   "id": "779c94d9",
   "metadata": {},
   "outputs": [
    {
     "name": "stdout",
     "output_type": "stream",
     "text": [
      "The norm ratio is 0.0000000003.\n"
     ]
    },
    {
     "data": {
      "image/png": "[encoded data removed]",
      "text/plain": [
       "<Figure size 720x432 with 1 Axes>"
      ]
     },
     "metadata": {
      "needs_background": "light"
     },
     "output_type": "display_data"
    }
   ],
   "source": [
    "\"\"\"\n",
    "Derive gradient numerically to test against\n",
    "\"\"\"\n",
    "\n",
    "def numericalgradient(fun,w,e):\n",
    "    # get dimensionality\n",
    "    d = len(w)\n",
    "    # initialize numerical derivative\n",
    "    dh = np.zeros(d)\n",
    "    # go through dimensions\n",
    "    for i in range(d):\n",
    "        # copy the weight vector\n",
    "        nw = w.copy()\n",
    "        # perturb dimension i\n",
    "        nw[i] += e\n",
    "        # compute loss\n",
    "        l1, temp = fun(nw)\n",
    "        # perturb dimension i again\n",
    "        nw[i] -= 2*e\n",
    "        # compute loss\n",
    "        l2, temp = fun(nw)\n",
    "        # the gradient is the slope of the loss\n",
    "        dh[i] = (l1 - l2) / (2*e)\n",
    "    return dh\n",
    "\n",
    "def checkgrad(fun,w,e):\n",
    "    # evaluate symbolic gradient from fun()\n",
    "    loss,dy = fun(w)\n",
    "    # estimate gradient numerically from fun()\n",
    "    dh = numericalgradient(fun,w,e)\n",
    "    \n",
    "    # ii = dy.argsort()\n",
    "    ii = np.array([i for i in range(len(dy))])\n",
    "    \n",
    "    plt.figure(figsize=(10,6))\n",
    "    plt.scatter([i for i in range(len(dy))], dh[ii], c='b', marker='o', s=60)\n",
    "    plt.scatter([i for i in range(len(dy))], dy[ii], c='r', marker='.', s=50)\n",
    "    plt.xlabel('Dimension')\n",
    "    plt.ylabel('Gradient value')\n",
    "    plt.legend([\"numeric\",\"symbolic\"])\n",
    "    \n",
    "    # return the norm of the difference scaled by the norm of the sum\n",
    "    return np.linalg.norm(dh - dy) / np.linalg.norm(dh + dy)\n",
    "\n",
    "# set lmbda (λ) arbitrarily\n",
    "lmbda = 0.1\n",
    "# dimensionality of the input\n",
    "_, d = xTr.shape\n",
    "# evaluate loss on random vector\n",
    "w = np.random.rand(d)\n",
    "# the lambda function notation is an inline way to define a function with only a single argument.\n",
    "ratio = checkgrad(lambda weight: ridge(weight,xTr,yTr,lmbda),w,1e-05)\n",
    "print(\"The norm ratio is %.10f.\" % ratio)"
   ]
  },
  {
   "cell_type": "code",
   "execution_count": 13,
   "id": "ada2a91c",
   "metadata": {},
   "outputs": [],
   "source": [
    "\"\"\"\n",
    "Perform adaptive gradient descent. \n",
    "\"\"\"\n",
    "def adagrad(func,w,alpha,maxiter,eps,delta=1e-02):\n",
    "    \"\"\"\n",
    "    INPUT:\n",
    "    func    : function to minimize\n",
    "              (loss, gradient = func(w))\n",
    "    w       : d dimensional initial weight vector (d,)\n",
    "    alpha   : initial gradient descent stepsize (scalar)\n",
    "    maxiter : maximum amount of iterations (scalar)\n",
    "    eps     : epsilon value (scalar)\n",
    "    delta   : if norm(gradient) < delta, it quits (scalar)\n",
    "    \n",
    "    OUTPUTS:\n",
    "     \n",
    "    w      : d dimensional final weight vector (d,)\n",
    "    losses : vector containing loss at each iteration\n",
    "    \n",
    "    Note   : do not include both the stopping conditions (maxiter and delta) in the loop conditional.\n",
    "    \"\"\"\n",
    "    \n",
    "    losses = np.zeros(maxiter)\n",
    "    g_sq = np.zeros(w.shape)  # Initialize the squared gradient accumulator\n",
    "    \n",
    "    for t in range(maxiter):\n",
    "        loss, gradient = func(w)\n",
    "        losses[t] = loss\n",
    "        \n",
    "        if np.linalg.norm(gradient) < delta:\n",
    "            break\n",
    "        \n",
    "        g_sq += gradient ** 2  # Accumulate the squared gradient\n",
    "        \n",
    "        adjusted_alpha = alpha / (np.sqrt(g_sq) + eps)\n",
    "        w -= adjusted_alpha * gradient\n",
    "    \n",
    "    return w, losses"
   ]
  },
  {
   "cell_type": "code",
   "execution_count": 14,
   "id": "68401483",
   "metadata": {},
   "outputs": [
    {
     "name": "stdout",
     "output_type": "stream",
     "text": [
      "Final loss: 2.133831\n"
     ]
    },
    {
     "data": {
      "image/png": "[encoded data removed]",
      "text/plain": [
       "<Figure size 720x432 with 1 Axes>"
      ]
     },
     "metadata": {
      "needs_background": "light"
     },
     "output_type": "display_data"
    }
   ],
   "source": [
    "\"\"\"\n",
    "Test script\n",
    "\"\"\"\n",
    "_, d = xTr.shape\n",
    "eps = 1e-06\n",
    "w, losses = adagrad(lambda weight: ridge(weight, xTr, yTr, lmbda), np.random.rand(d), 1, 1000, eps)\n",
    "\n",
    "plt.figure(figsize=(10,6))\n",
    "plt.semilogy(losses, c='r', linestyle='-')\n",
    "plt.xlabel(\"gradient updates\")\n",
    "plt.ylabel(\"loss\")\n",
    "plt.title(\"Adagrad convergence\")\n",
    "print(\"Final loss: %f\" % losses[-1])"
   ]
  },
  {
   "cell_type": "code",
   "execution_count": 16,
   "id": "09d4ddbb",
   "metadata": {},
   "outputs": [
    {
     "name": "stdout",
     "output_type": "stream",
     "text": [
      "Training accuracy 50.00%\n",
      "Validation accuracy nan%\n",
      "\n"
     ]
    }
   ],
   "source": [
    "\"\"\"\n",
    "Linear classifier (taken from previous project)\n",
    "\"\"\"\n",
    "def linclassify(w,xTr):\n",
    "    ## fill in your code here\n",
    "    raw_scores = np.dot(xTr, w)\n",
    "    \n",
    "    # If the raw score is greater than or equal to 0, classify as 1, else as -1\n",
    "    preds = np.where(raw_scores >= 0, 1, -1)\n",
    "    \n",
    "    return preds\n",
    "\n",
    "\"\"\"\n",
    "Test script\n",
    "\"\"\"\n",
    "# evaluate training accuracy\n",
    "preds = linclassify(w,xTr)\n",
    "trainingacc = np.mean(preds==yTr)\n",
    "# evaluate testing accuracy\n",
    "preds = linclassify(w,xTv)\n",
    "validationacc = np.mean(preds==yTv)\n",
    "print(\"Training accuracy %2.2f%%\\nValidation accuracy %2.2f%%\\n\" % (trainingacc*100,validationacc*100))"
   ]
  },
  {
   "cell_type": "code",
   "execution_count": 18,
   "id": "fe0330be",
   "metadata": {},
   "outputs": [],
   "source": [
    "\"\"\"\n",
    "Now implement with logistic loss function instead of ridge\n",
    "\"\"\"\n",
    "def logistic(w,xTr,yTr):\n",
    "    \"\"\"\n",
    "    INPUT:\n",
    "    w     : d   dimensional weight vector (d,)\n",
    "    xTr   : nxd dimensional matrix (each row is an input vector) (n,d)\n",
    "    yTr   : n   dimensional vector (each entry is a label) (n,)\n",
    "    \n",
    "    OUTPUTS:\n",
    "    loss     : the total loss obtained with w on xTr and yTr (scalar)\n",
    "    gradient : d dimensional gradient at w (d,)\n",
    "    \"\"\"\n",
    "    n, d = xTr.shape\n",
    "    \n",
    "    # Calculate the raw scores for each data point\n",
    "    raw_scores = np.dot(xTr, w)\n",
    "    \n",
    "    # Calculate the logistic loss\n",
    "    loss = np.sum(np.log(1 + np.exp(-yTr * raw_scores)))\n",
    "    \n",
    "    # Calculate the gradient of the logistic loss without using sigmoid\n",
    "    exp_term = np.exp(-yTr * raw_scores)\n",
    "    gradient = -np.dot(xTr.T, (yTr * exp_term) / (1 + exp_term))\n",
    "    \n",
    "    return loss, gradient"
   ]
  },
  {
   "cell_type": "code",
   "execution_count": 19,
   "id": "697ff560",
   "metadata": {},
   "outputs": [],
   "source": [
    "\"\"\"\n",
    "Now hinge loss\n",
    "\"\"\"\n",
    "def hinge(w, xTr, yTr, lmbda):\n",
    "    \"\"\"\n",
    "    INPUT:\n",
    "    w     : d-dimensional weight vector (d,)\n",
    "    xTr   : nxd dimensional matrix (each row is an input vector) (n, d)\n",
    "    yTr   : n-dimensional vector (each entry is a label: +1 or -1) (n,)\n",
    "    lmbda : regression constant (scalar)\n",
    "    \n",
    "    OUTPUTS:\n",
    "    loss     : the total loss obtained with w on xTr and yTr (scalar)\n",
    "    gradient : d-dimensional gradient at w (d,)\n",
    "    \"\"\"\n",
    "    n, d = xTr.shape\n",
    "    \n",
    "    # Calculate the raw scores for each data point\n",
    "    raw_scores = np.dot(xTr, w)\n",
    "    \n",
    "    # Calculate the hinge loss for each data point\n",
    "    hinge_loss = np.maximum(0, 1 - yTr * raw_scores)\n",
    "    \n",
    "    # Calculate the total hinge loss with regularization\n",
    "    loss = np.sum(hinge_loss) + lmbda * np.dot(w, w)\n",
    "    \n",
    "    # Calculate the gradient of the hinge loss with regularization\n",
    "    mask = yTr * raw_scores < 1\n",
    "    gradient = np.zeros(d)\n",
    "    gradient = -np.dot(xTr.T, yTr * mask) + 2 * lmbda * w\n",
    "    \n",
    "    return loss, gradient"
   ]
  },
  {
   "cell_type": "code",
   "execution_count": null,
   "id": "0d4b2876",
   "metadata": {},
   "outputs": [],
   "source": []
  }
 ],
 "metadata": {
  "kernelspec": {
   "display_name": "Python 3 (ipykernel)",
   "language": "python",
   "name": "python3"
  },
  "language_info": {
   "codemirror_mode": {
    "name": "ipython",
    "version": 3
   },
   "file_extension": ".py",
   "mimetype": "text/x-python",
   "name": "python",
   "nbconvert_exporter": "python",
   "pygments_lexer": "ipython3",
   "version": "3.9.12"
  }
 },
 "nbformat": 4,
 "nbformat_minor": 5
}
